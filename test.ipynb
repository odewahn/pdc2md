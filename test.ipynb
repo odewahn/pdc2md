{
 "metadata": {
  "name": "",
  "signature": "sha256:9bc67276324d07aa664ddcf77ad24968de1cc2efffdd6f81d2141e90b6806c0c"
 },
 "nbformat": 3,
 "nbformat_minor": 0,
 "worksheets": [
  {
   "cells": [
    {
     "cell_type": "heading",
     "level": 1,
     "metadata": {},
     "source": [
      "Working with Data"
     ]
    },
    {
     "cell_type": "markdown",
     "metadata": {},
     "source": [
      "This chapter outlines techniques for effectively working with data in Python.\n",
      "This topic is very broad: effective handling of data in Python is less about applying recipes than it is about attaining a basic fluency in the tools available, mainly the NumPy and Pandas packages.\n",
      "As such, this chapter will be a bit different than the rest of the book: the \"recipes\" could perhaps better be described as short chapters covering a particular topic.\n",
      "\n",
      "Throughout, we'll be using the standard abbreviations for common scientific packages, with imports as follows:"
     ]
    },
    {
     "cell_type": "code",
     "collapsed": false,
     "input": [
      "import numpy as np\n",
      "import pandas as pd\n",
      "import scipy as sp\n",
      "import matplotlib.pyplot as plt"
     ],
     "language": "python",
     "metadata": {},
     "outputs": [],
     "prompt_number": 1
    },
    {
     "cell_type": "markdown",
     "metadata": {},
     "source": [
      "As always, more information can be found either in the online documentation, or by using the *Docstrings*, or documentation strings, included in the source code.\n",
      "\n",
      "Online documentation for these three packages can be found here:\n",
      "\n",
      "- **NumPy:** http://www.numpy.org\n",
      "- **Pandas:** http://pandas.pydata.org/\n",
      "- **SciPy:** http://www.scipy.org\n",
      "- **Matplotlib:** http://www.matplotlib.org\n",
      "\n",
      "Often more useful in practice is the docstring, which can be inspected in one of several ways.\n",
      "See the sidebar (TODO: reference?) for information on finding help."
     ]
    },
    {
     "cell_type": "heading",
     "level": 2,
     "metadata": {},
     "source": [
      "Sidebar: Python Docstrings"
     ]
    },
    {
     "cell_type": "markdown",
     "metadata": {},
     "source": [
      "One of the most important skills for a scientific Python user is knowing how to find help on the various functionality available in Python and its scientific packages.\n",
      "The standard approach to Python documentation is *docstrings*. These are strings which appear at the beginning of a module, class, or function, and can be examined via several standard methods.\n",
      "The standard Python convention is for the docstring to be contained within triple-quotes, and they often look as follows:"
     ]
    },
    {
     "cell_type": "code",
     "collapsed": false,
     "input": [
      "def my_multiply(a, b):\n",
      "    \"\"\"Compute the product of a and b\n",
      "    \n",
      "    Parameters\n",
      "    ----------\n",
      "    a, b: int or float\n",
      "        numbers to multiply\n",
      "    \"\"\"\n",
      "    return a * b"
     ],
     "language": "python",
     "metadata": {},
     "outputs": [],
     "prompt_number": 2
    },
    {
     "cell_type": "markdown",
     "metadata": {},
     "source": [
      "The triple quote denotes a multi-line string literal, and the contents of this string are stored in the function's docstring.  The docstring can be accessed in several ways. At the lowest level, you can access it directly with the ``__doc`` attribute:"
     ]
    },
    {
     "cell_type": "code",
     "collapsed": false,
     "input": [
      "print(my_multiply.__doc__)"
     ],
     "language": "python",
     "metadata": {},
     "outputs": [
      {
       "output_type": "stream",
       "stream": "stdout",
       "text": [
        "Compute the product of a and b\n",
        "    \n",
        "    Parameters\n",
        "    ----------\n",
        "    a, b: int or float\n",
        "        numbers to multiply\n",
        "    \n"
       ]
      }
     ],
     "prompt_number": 3
    },
    {
     "cell_type": "markdown",
     "metadata": {},
     "source": [
      "More generally, the built-in ``help()`` function can be used to access the docstring along with other useful information about the object:"
     ]
    },
    {
     "cell_type": "code",
     "collapsed": false,
     "input": [
      "help(my_multiply)"
     ],
     "language": "python",
     "metadata": {},
     "outputs": [
      {
       "output_type": "stream",
       "stream": "stdout",
       "text": [
        "Help on function my_multiply in module __main__:\n",
        "\n",
        "my_multiply(a, b)\n",
        "    Compute the product of a and b\n",
        "    \n",
        "    Parameters\n",
        "    ----------\n",
        "    a, b: int or float\n",
        "        numbers to multiply\n",
        "\n"
       ]
      }
     ],
     "prompt_number": 4
    },
    {
     "cell_type": "markdown",
     "metadata": {},
     "source": [
      "Finally, within the IPython terminal or the IPython notebook, a shortcut to the ``help`` function is to add a single question mark after the object:\n",
      "\n",
      "``` ipython\n",
      "In [4]: my_multiply?\n",
      "```\n",
      "\n",
      "As a result, you will see something like this:\n",
      "``` python\n",
      "Type:        function\n",
      "String form: <function my_multiply at 0x1076f9830>\n",
      "File:        /Users/jakevdp/Cookbook/01-Working-with-Data/<ipython-input-2-4bec4464217e>\n",
      "Definition:  my_multiply(a, b)\n",
      "Docstring:\n",
      "Compute the product of a and b\n",
      "\n",
      "Parameters\n",
      "----------\n",
      "a, b: int or float\n",
      "    numbers to multiply\n",
      "```\n",
      "\n",
      "This will open a screen with the documentation for the function.\n",
      "For those who wish to go even deeper, IPython makes it possible to quickly inspect the source code of any object by appending a double question mark:\n",
      "\n",
      "``` ipython\n",
      "In [5]: my_multiply??\n",
      "```\n",
      "The result is something like this:\n",
      "``` python\n",
      "Type:        function\n",
      "String form: <function my_multiply at 0x1076f9830>\n",
      "File:        /Users/jakevdp/Cookbook/01-Working-with-Data/<ipython-input-2-4bec4464217e>\n",
      "Definition:  my_multiply(a, b)\n",
      "Source:\n",
      "def my_multiply(a, b):\n",
      "    \"\"\"Compute the product of a and b\n",
      "    \n",
      "    Parameters\n",
      "    ----------\n",
      "    a, b: int or float\n",
      "        numbers to multiply\n",
      "    \"\"\"\n",
      "    return a * b\n",
      "```"
     ]
    },
    {
     "cell_type": "markdown",
     "metadata": {},
     "source": [
      "Be aware that for objects not defined in pure Python (i.e. those directly using the C API), this source-code examination shortcut will only show the docstring.\n",
      "\n",
      "As you go through the recipes in this book, make good use of these help functionalities!\n",
      "Most of the tools we will cover have many additional options that we don't have the space to mention or discuss. Use the docstrings to examine these functions and to later remind yourself how to use them!"
     ]
    }
   ],
   "metadata": {}
  }
 ]
}